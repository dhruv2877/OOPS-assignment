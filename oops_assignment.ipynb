{
  "nbformat": 4,
  "nbformat_minor": 0,
  "metadata": {
    "colab": {
      "provenance": []
    },
    "kernelspec": {
      "name": "python3",
      "display_name": "Python 3"
    },
    "language_info": {
      "name": "python"
    }
  },
  "cells": [
    {
      "cell_type": "markdown",
      "source": [
        "#***Oops Assignment***\n",
        "**Theoritical Questions**"
      ],
      "metadata": {
        "id": "ydGE30UVvKNc"
      }
    },
    {
      "cell_type": "markdown",
      "source": [
        "1.  What is Object-Oriented Programming (OOP) ?\n",
        " *  Object -Oriented programming (oop) is a programming approach that organize and arrange codes in a reusable objects (usually based on in real objects), which contains attributes (data) and mathods (actions it can take).\n",
        "\n",
        " OOP helps in structuring programs by grouping related data and functions together. It makes code more reusable, organized, and easier to maintain.\n",
        "\n",
        "\n",
        "* The four main principles of OOP are:\n",
        "\n",
        "i.) Encapsulation: Hiding data and allowing only controlled access.\n",
        "\n",
        "ii.) Abstraction: Showing only necessary details and hiding complexity.\n",
        "\n",
        "iii.) Inheritance: Creating new classes from existing ones.\n",
        "\n",
        "iv.) Polymorphism: Allowing different objects to be used in a similar way.\n",
        "\n",
        "\n",
        "Example:\n",
        "Example: A \"Car\" object can have attributes like color and brand, and methods like drive() and brake()."
      ],
      "metadata": {
        "id": "xqOPu7PPvkNr"
      }
    },
    {
      "cell_type": "markdown",
      "source": [
        "2. What is a class in OOP?\n",
        "\n",
        " *  A class in object -oriented programming is like a blueprint or tempelate which is used to create reusable objects of code. It defines the attributes (data) and methods (actions) that an object will demonstrate.\n",
        "\n",
        "  It helps in organizing code efficiently and allows us to create multiple objects with similar behaviors but different data.\n",
        "\n",
        "Example: If a class \"Car\" is defined with attributes like brand and color, we can create multiple car objects using this template, each having different values for these attributes.\n",
        "\n",
        "Key Features of a Class:\n",
        "\n",
        "Encapsulation: Groups related data and functions together.\n",
        "\n",
        "Reusability: A class can be used to create multiple objects with different\n",
        "data.\n",
        "\n",
        "Modularity: Keeps code structured and manageable."
      ],
      "metadata": {
        "id": "BFY3fa02yqw6"
      }
    },
    {
      "cell_type": "markdown",
      "source": [
        "3. What is an object in OOP?\n",
        " *  An object is an actual instance of a class. It is a real-world entity that has attributes (data) and methods (behaviors) defined by its class. Every object has a unique identity (like an ID or memory address).\n",
        "\n",
        "Think of a class as a blueprint and an object as the actual thing built from that blueprint\n",
        "\n",
        "For example, if you have a \"Car\" class, individual cars like a red Toyota or a blue Honda are objects of that class.\n",
        "\n",
        "\n",
        "\n",
        "Example:\n",
        "\n",
        "```\n",
        "# Defining a Class\n",
        "class Car:\n",
        "    def __init__(self, brand, color, speed):\n",
        "        self.brand = brand  # Attribute\n",
        "        self.color = color\n",
        "        self.speed = speed\n",
        "\n",
        "    def drive(self):  # Method (Behavior)\n",
        "        print(f\"The {self.color} {self.brand} is driving at {self.speed} km/h.\")\n",
        "\n",
        "# Creating Objects\n",
        "car1 = Car(\"Toyota\", \"Red\", 80)   # First Object\n",
        "car2 = Car(\"Honda\", \"Blue\", 100)  # Second Object\n",
        "\n",
        "# Using Object Methods\n",
        "car1.drive()\n",
        " # Output: The Red Toyota is driving at 80 km/h.\n",
        "car2.drive()  \n",
        "# Output: The Blue Honda is driving at 100 km/h.\n",
        "```\n",
        "\n",
        "\n"
      ],
      "metadata": {
        "id": "6xmFGF_q1SJE"
      }
    },
    {
      "cell_type": "markdown",
      "source": [
        "4.  What is the difference between abstraction and encapsulation?\n",
        "\n",
        " *  Abstraction and encapsulation are two core concepts of object oriented programming.\n",
        "\n",
        "*  Abstraction: Abstraction is the process of hiding unnecessary details and only showing essential features to the user. It simplifies complex systems by providing only relevant information.  It is implemented using abstract classes and methods.\n",
        "\n",
        " Example: When you use a smartphone, you see the interface (buttons, touchscreen) but don't see the internal circuitry or how it works.\n",
        "\n",
        "*  Encapsulation: Encapsulation is the process of wrapping data and methods into a single unit (class) and restricting direct access to some data to prevent accidental modification. It is implemented using private and protected variables.\n",
        "\n",
        "Example: In a banking system, abstraction hides how transactions are processed, while encapsulation ensures users can't directly modify their balance\n",
        "\n",
        "\n",
        "*  Key diiferences between abstraction and encapsulation:-\n",
        "\n",
        "i.): Abstraction hides the unnecessary data making user interface simple, encapsulation denies the access to some data to user to prevent data misuse and protect data.\n",
        "\n",
        "ii.)abstraction is implemented using abstract classes and methods and encapsulation is implemented using private/protected variables and methods.\n"
      ],
      "metadata": {
        "id": "SzH6Aw2C3Ln9"
      }
    },
    {
      "cell_type": "markdown",
      "source": [
        "5. What are dunder methods in Python?\n",
        " *  Dunder (Double Underscore) Methods, also known as Magic Methods or Special Methods, are built-in methods in Python that start and end with double underscores ( __ method __ ).\n",
        "\n",
        "They allow us to define how objects of a class behave when used with operators, built-in functions, or type conversions. These methods are automatically called when a specific operation is performed on an object.\n",
        "\n",
        "Some examples of commonly used dunders are:\n",
        "\n",
        "* __innit __\n",
        "* __ str__\n",
        "* __ add__\n",
        "* __ sub__\n",
        "* __ mul__\n",
        "* __ del__"
      ],
      "metadata": {
        "id": "3NQPUr_Q6XVK"
      }
    },
    {
      "cell_type": "markdown",
      "source": [
        "6.  Explain the concept of inheritance in OOP.\n",
        " *  Inheritance in Object-Oriented Programming (OOP) is a mechanism that allows a new class, called the child class, to inherit the properties (attributes) and behaviors (methods) of an existing class, called the parent class. This helps in code reusability, reduces redundancy, and allows for a hierarchical structure in programming.\n",
        "\n",
        "The child class can use, modify, or extend the functionalities of the parent class without having to rewrite the code. parent class will not have access to the property(method/attribute) of child class but child class will have access to both\n",
        "\n",
        "There are five types of inheritance in Python:\n",
        "\n",
        "* Single Inheritance – One child class inherits from one parent class.\n",
        "\n",
        "* Multiple Inheritance – A child class inherits from multiple parent classes.\n",
        "\n",
        "* Multilevel Inheritance – A child class inherits from another child class (like a family tree).\n",
        "\n",
        "* Hierarchical Inheritance – Multiple child classes inherit from a single parent class.\n",
        "\n",
        "* Hybrid Inheritance – A combination of two or more types of inheritance.\n"
      ],
      "metadata": {
        "id": "PR0PTKYiAQY4"
      }
    },
    {
      "cell_type": "markdown",
      "source": [
        "7.  What is polymorphism in OOP?\n",
        " *  Polymorphism in Object-Oriented Programming (OOP) is the ability of different objects to respond to the same function or method in different ways. It allows a single interface to be used for different data types or objects, improving flexibility and scalability in coding.\n",
        "\n",
        " Polymorphism enables code flexibility, reusability, and maintainability by providing a single interface for different data types. This concept is essential for designing scalable and modular applications where new functionalities can be added without modifying the existing code.\n",
        "\n",
        " Types of Polymorphism in Python:\n",
        "\n",
        "*  Method Overriding: A child class provides its own implementation of a method inherited from the parent class.\n",
        "\n",
        "*  Method Overloading: The same method is used with different numbers or types of parameters (not directly supported in Python).\n",
        "* Operator Overloading: Customizing how operators (+, -, *, etc.) work with objects.\n",
        "* Duck Typing: Python's dynamic typing allows different objects to have the same method name without formal inheritance."
      ],
      "metadata": {
        "id": "Y3IwzYvGCAtl"
      }
    },
    {
      "cell_type": "markdown",
      "source": [
        "8. How is encapsulation achieved in Python?\n",
        "\n",
        " *  Encapsulation in Object-Oriented Programming (OOP) is the process of bundling data (attributes) and methods (functions) into a single unit (class) while restricting direct access to certain data. This ensures that data is protected from accidental modification and can only be accessed or modified through controlled methods.\n",
        "\n",
        "Encapsulation is achieved in Python using access specifiers:-\n",
        "*  Public Members:  Accessible from anywhere.\n",
        "* Protected Members (_variable): Should not be accessed directly but can be accessed in subclasses.\n",
        "* Private Members (__variable): Cannot be accessed directly from outside the class."
      ],
      "metadata": {
        "id": "SmarhQzFZa9M"
      }
    },
    {
      "cell_type": "markdown",
      "source": [
        "9. What is a Constructor in Python?\n",
        " *  A constructor in Python is a special method (__init__()) that is automatically called when an object of a class is created. It is primarily used to initialize object attributes and set up any necessary configurations at the time of object creation.\n",
        "\n",
        "* Constructors reduce redundancy and make code more efficient by ensuring that every object starts with a defined state.\n",
        "\n",
        "* Example: in a Car class, a constructor can initialize the brand, model, and year when a new car object is created. Instead of setting values manually for each object, the constructor automates the process, making the code cleaner and more readable.\n",
        "\n",
        "* Constructors are a fundamental concept in Object-Oriented Programming (OOP), making object creation simpler, more structured, and scalable.\n",
        "\n",
        "There are three types of constructors:-\n",
        "\n",
        "i.) Default Constructor: Takes no parameters and sets default values.\n",
        "\n",
        "ii.) Parameterized Constructor: Accepts arguments to initialize object attributes.\n",
        "\n",
        "iii.) Constructor with Default Arguments: Allows optional parameters with default values."
      ],
      "metadata": {
        "id": "-COZJCUnaxG8"
      }
    },
    {
      "cell_type": "markdown",
      "source": [
        "10. What Are Class and Static Methods in Python?\n",
        "\n",
        " *  There are three types of methods in python:\n",
        "\n",
        "\n",
        "\n",
        "*   Instance method: Work with object attributes and require self.\n",
        "*   Class method(@classmethod): Work with the class itself and use cls.\n",
        "*   Static method(@staticmethod): Independent functions inside a class that don't modify class or object attributes.\n",
        "\n",
        "\n",
        "Both class methods and static methods allow us to work with a class without needing to create an instance. However, they serve different purposes, which are:-\n",
        "\n",
        "*  Class Method:\n",
        "\n",
        "i.) A class method operates on the class rather than instances. It takes cls (instead of self) as its first parameter, which refers to the class itself.\n",
        "\n",
        "ii.) A class method is used to modify class-level attributes and is shared across all instances.\n",
        "\n",
        "iii.) Uses the @classmethod decorator.\n",
        "\n",
        "iv.) Can be used as alternative constructors.\n",
        "\n",
        "\n",
        "Example:-\n",
        "\n",
        "A School class can have a class method change_school_name(cls, new_name), which affects all students.\n",
        "\n",
        "* Static Method:\n",
        "\n",
        "i.) A static method is a method inside a class that does not modify instance or class attributes.\n",
        "\n",
        "ii.) It does not take self or cls as a parameter.\n",
        "\n",
        "iii.)  It behaves like a normal function but is logically grouped inside a class.\n",
        "\n",
        "Example:-\n",
        "\n",
        " A Math class can have a static method add(x, y), which simply performs a calculation without modifying the class itself.\n"
      ],
      "metadata": {
        "id": "q4ksJu4Eb0Nt"
      }
    },
    {
      "cell_type": "markdown",
      "source": [
        "11. What is Method Overloading in Python?\n",
        "\n",
        "  *  Method Overloading is a concept in Object-Oriented Programming (OOP) where multiple methods with the same name but different parameters exist in a class. The correct method is chosen based on the number or type of arguments passed.\n",
        "\n",
        "   Python does not support true method overloading. Instead, Python allows method overloading using default arguments, variable-length arguments (*args, **kwargs), or conditional statements inside a single method.\n",
        "\n",
        "   Advantages of method overloading in python:\n",
        "*  Increases code flexibility and readability.\n",
        "*  Allows a single method to handle different types of inputs.\n",
        "* Makes the class more reusable and efficient.\n",
        "\n",
        "Example:\n",
        "\n",
        "\n",
        "\n",
        "```\n",
        "class MathOperations:\n",
        "    def add(self, a, b=0, c=0):  # Default arguments\n",
        "        return a + b + c\n",
        "\n",
        "# Creating an object\n",
        "math_op = MathOperations()\n",
        "\n",
        "# Calling method with different arguments\n",
        "print(math_op.add(5))        # Output: 5 (Only a)\n",
        "print(math_op.add(5, 10))    # Output: 15 (a + b)\n",
        "print(math_op.add(5, 10, 15))  # Output: 30 (a + b + c)\n",
        "```\n",
        "\n"
      ],
      "metadata": {
        "id": "l_P1961eecJC"
      }
    },
    {
      "cell_type": "markdown",
      "source": [
        "12. What is Method Overriding in OOP?\n",
        " *  Method Overriding is an important concept in Object-Oriented Programming (OOP) that allows a child class to provide a specific implementation of a method that is already defined in its parent class. This means that when an object of the child class calls the overridden method, Python executes the new version instead of the parent's version.\n",
        "\n",
        "* Method overriding is useful when we want a child class to behave differently while still maintaining a relationship with the parent class.\n",
        "\n",
        "* In Python, method overriding is done by defining a method in the child class with the same name as in the parent class. When the method is called on an object of the child class, Python executes the overridden method instead of the parent method.\n",
        "\n",
        "Syntax:\n",
        "\n",
        "\n",
        "\n",
        "```\n",
        "class Parent:\n",
        "    def show(self):\n",
        "        return \"This is the parent class method.\"\n",
        "\n",
        "class Child(Parent):\n",
        "    def show(self):  # Overriding the parent method\n",
        "        return \"This is the child class method.\"\n",
        "\n",
        "# Creating objects\n",
        "parent_obj = Parent()\n",
        "child_obj = Child()\n",
        "\n",
        "print(parent_obj.show())  # Output: This is the parent class method.\n",
        "print(child_obj.show())   # Output: This is the child class method.\n",
        "```\n",
        "\n"
      ],
      "metadata": {
        "id": "hiz9bZL1fp8C"
      }
    },
    {
      "cell_type": "markdown",
      "source": [
        "13. What is a Property Decorator in Python?\n",
        " *  A property decorator (@property) in Python is a built-in decorator used to define getter, setter, and deleter methods in a class. It allows you to access methods like attributes (without parentheses) while still controlling how attributes are retrieved, modified, or deleted.\n",
        "\n",
        " Instead of calling explicit getter and setter methods like get_salary() and set_salary(), property decorators allow us to use attribute-style access (obj.salary) while still applying logic in the background.\n",
        "\n",
        " Property decorators are implemented using three special decorators:\n",
        "\n",
        "*  @property: Defines a getter method to access the attribute.\n",
        "* @attribute_name.setter: Defines a setter method to modify the attribute with validation.\n",
        "* @attribute_name.deleter: Defines a deleter method to remove the attribute with controlled behavior."
      ],
      "metadata": {
        "id": "JaO5hx7fg4Bv"
      }
    },
    {
      "cell_type": "markdown",
      "source": [
        "14. Why is Polymorphism Important in OOP?\n",
        " *  Polymorphism is one of the four fundamental principles of Object-Oriented Programming (OOP) that allows a single function, method, or operator to have multiple behaviors depending on the object it is acting upon. It enables different classes to share the same method name while implementing their own unique functionalities.\n",
        "\n",
        " Polymorphism is important because:\n",
        "*   Code Reusability: The same method name can be used in multiple classes, reducing code duplication.\n",
        "* Flexibility: Objects from different classes can be used in a unified manner, making code more adaptable.\n",
        "* Reduces Complexity: Makes it easier to manage large programs with multiple classes.\n",
        "* Extensibility: New classes can be added without modifying existing code."
      ],
      "metadata": {
        "id": "TQABi_gohsSX"
      }
    },
    {
      "cell_type": "markdown",
      "source": [
        "15. What are abstract class in Python ?\n",
        " *  An abstract class in Python is a class that cannot be instantiated (you cannot create objects from it) and is meant to be used as a blueprint for other classes. It defines a common interface for its child classes but does not provide full implementations of its methods.\n",
        "\n",
        " An abstract class in Python is a class that cannot be instantiated (you cannot create objects from it) and is meant to be used as a blueprint for other classes. It defines a common interface for its child classes but does not provide full implementations of its methods."
      ],
      "metadata": {
        "id": "GGwLJUXuitRe"
      }
    },
    {
      "cell_type": "markdown",
      "source": [
        "16. What Are the Advantages of OOP?\n",
        " *  Object -Oriented programming (oop) is a programming approach that organize and arrange codes in a reusable objects (usually based on in real objects), which contains attributes (data) and mathods (actions it can take).\n",
        "\n",
        " OOP helps in structuring programs by grouping related data and functions together. It makes code more reusable, organized, and easier to maintain.\n",
        "\n",
        " Some Key advantages of OOP (object -oriented programming):\n",
        "*  Code Reusability: With inheritance, classes can reuse code from existing classes, reducing redundancy.\n",
        "* Encapsulation: Data is protected from direct access by hiding attributes and using getter/setter methods.\n",
        "* Polymorphism: The same method name can work differently for different objects, increasing flexibility.\n",
        "* Abstraction: Hides unnecessary details and exposes only the relevant parts, simplifying interactions.\n",
        "* Scalability: OOP allows programs to grow easily by adding new features without modifying existing code\n",
        "* Modularity: Code is divided into separate classes, making it easier to maintain and debug.\n"
      ],
      "metadata": {
        "id": "_quBnuYCjfkJ"
      }
    },
    {
      "cell_type": "markdown",
      "source": [
        "17. What is the Difference Between a Class Variable and an Instance Variable?\n",
        "\n",
        "  *     There are two types of methods in oop:\n",
        "\n",
        "*  Class Variables: Shared among all instances of a class.\n",
        "* Instance Variables: Unique to each instance of a class.\n",
        "\n",
        "The key difference is that class variables are the same for all objects, while instance variables can have different values for different objects.\n",
        "\n",
        "Differences between class and instance variables:\n",
        "\n",
        "*  Class variable:\n",
        "\n",
        "i.) Shared among all objects of a class.\n",
        "\n",
        "ii.) Defined outside methods inside the class.\n",
        "\n",
        "\n",
        "iii.) Changing the class variable affects all instances.\n",
        "\n",
        "iv.) Example: A Car class with wheels = 4 (all cars have 4 wheels).\n",
        "\n",
        "\n",
        "* Instance Variable:\n",
        "\n",
        "i.) Unique for each object of a class.\n",
        "\n",
        "ii.) Defined inside the __ init__() method using self.\n",
        "\n",
        "iii.) Changing an instance variable affects only that specific object.\n",
        "\n",
        "iv.) Changing an instance variable affects only that specific object.\n",
        "\n",
        "\n",
        "To modify a class variable, we use ClassName.variable or a class method (@classmethod)."
      ],
      "metadata": {
        "id": "CTw-7pu-kgSY"
      }
    },
    {
      "cell_type": "markdown",
      "source": [
        "18.  What is multiple inheritance in Python?\n",
        " *  Multiple Inheritance in Python is a feature that allows a class to inherit from more than one parent class. This means that a child class can combine attributes and behaviors from multiple sources, making code more reusable and modular.\n",
        "\n",
        "Multiple inheritance is useful when an object needs functionalities from different, unrelated classes. However, it can lead to issues such as naming conflicts and the Diamond Problem, which Python resolves using the Method Resolution Order (MRO).\n",
        "\n",
        "MRO (Method Resolution Order) defines the sequence in which Python looks for methods in a class hierarchy when multiple parent classes exist."
      ],
      "metadata": {
        "id": "3znSPEj4mXhv"
      }
    },
    {
      "cell_type": "markdown",
      "source": [
        "19. Explain the Purpose of __ str__ and __ repr__ Methods in Python.\n",
        " *  In Python, __ str__ and __ repr__ are special (dunder) methods that define how an object is represented as a string. These methods control how an object is displayed when printed or converted to a string.\n",
        "\n",
        "* Purpose of __ str__():\n",
        "\n",
        "i.)  Called when print(object) or str(object) is used.\n",
        "\n",
        "ii.) Meant for end-users to provide a readable and meaningful description of the object.\n",
        "\n",
        "iii.) Should return a human-readable string.\n",
        "\n",
        "*  Purpose of __ repr__()\n",
        "\n",
        "i.) Called when repr(object) or when inspecting objects in a Python shell.\n",
        "\n",
        "ii.) Meant for developers/debugging, giving an unambiguous representation.\n",
        "\n",
        "iii.) Should return a string that can recreate the object if passed to eval()."
      ],
      "metadata": {
        "id": "BW0jdTPWm_35"
      }
    },
    {
      "cell_type": "markdown",
      "source": [
        "20.  What is the Significance of the super() Function in Python?\n",
        " *  The super() function in Python is used in object-oriented programming (OOP) to call methods from a parent class inside a child class. It allows inheritance to work efficiently by ensuring parent attributes and methods are properly initialized and executed.\n",
        "\n",
        " Using super() makes OOP code more readable, maintainable, and scalable, ensuring that inheritance works smoothly without redundant code or conflicts.\n",
        "\n",
        "* Example: a Child class can call the __init__() of its Parent class using super(), ensuring that both classes' attributes are properly initialized."
      ],
      "metadata": {
        "id": "cBE_j6JqooFD"
      }
    },
    {
      "cell_type": "markdown",
      "source": [
        "21. What is the Significance of the __ del__ Method in Python?\n",
        "\n",
        " *  The __ del__ method in Python is a special (dunder) method called a destructor. It is automatically executed when an object is deleted or when it goes out of scope.\n",
        "\n",
        " Python automatically calls __ del__() when: An object goes out of scope,\n",
        "the reference count of an object reaches zero,\n",
        "the garbage collector removes unused objects.\n",
        "\n",
        "Syntax:\n",
        "\n",
        "\n",
        "\n",
        "```\n",
        "class Example:\n",
        "    def __init__(self, name):\n",
        "        self.name = name\n",
        "        print(f\"Object {self.name} created!\")\n",
        "\n",
        "    def __del__(self):\n",
        "        print(f\"Object {self.name} deleted!\")\n",
        "\n",
        "# Creating an object\n",
        "obj = Example(\"Test\")\n",
        "\n",
        "# Deleting the object manually\n",
        "del obj  # Output: Object Test deleted!\n",
        "```\n",
        "\n"
      ],
      "metadata": {
        "id": "_tFe1ZscpDWR"
      }
    },
    {
      "cell_type": "markdown",
      "source": [
        "22. What is the Difference Between @staticmethod and @classmethod in Python?\n",
        "\n",
        " *  Both @staticmethod and @classmethod are decorators used to define methods inside a class that do not operate on an instance of the class. However, they have key differences:\n",
        "\n",
        "*  @classmethod:\n",
        "\n",
        "i.) A class method operates on the class rather than instances. It takes cls (instead of self) as its first parameter, which refers to the class itself.\n",
        "\n",
        "ii.) A class method is used to modify class-level attributes and is shared across all instances.\n",
        "\n",
        "iv.) Can be used as alternative constructors.\n",
        "\n",
        "\n",
        "Example:-\n",
        "\n",
        "A School class can have a class method change_school_name(cls, new_name), which affects all students.\n",
        "\n",
        "* @staticmethod:\n",
        "\n",
        "i.) A static method is a method inside a class that does not modify instance or class attributes.\n",
        "\n",
        "ii.) It does not take self or cls as a parameter.\n",
        "\n",
        "iii.)  It behaves like a normal function but is logically grouped inside a class.\n",
        "\n",
        "Example:-\n",
        "\n",
        " A Math class can have a static method add(x, y), which simply performs a calculation without modifying the class itself.\n"
      ],
      "metadata": {
        "id": "nzllnNV9p5RB"
      }
    },
    {
      "cell_type": "markdown",
      "source": [
        "23. How Does Polymorphism Work in Python with Inheritance?\n",
        " * Polymorphism in Object-Oriented Programming (OOP) is the ability of different objects to respond to the same function or method in different ways. It allows a single interface to be used for different data types or objects, improving flexibility and scalability in coding.\n",
        "\n",
        "When used with inheritance, polymorphism allows a child class to override methods from the parent class while still maintaining a common interface. This enables flexibility and reusability, as the same method name can work differently for different objects.\n",
        "\n",
        "Key Types of Polymorphism with Inheritance:\n",
        "\n",
        "* Method Overriding: A child class provides its own implementation of a method already defined in the parent class.\n",
        "* Using super(): The child class can call the parent class method while adding extra functionality.\n",
        "* Operator Overloading: Built-in operators (+, -, *) can be redefined to work with objects."
      ],
      "metadata": {
        "id": "z1XmVVxlqwJr"
      }
    },
    {
      "cell_type": "markdown",
      "source": [
        "24. What is Method Chaining in Python OOP?\n",
        " *  Method Chaining is a technique in Object-Oriented Programming (OOP) where multiple methods are called on the same object in a single statement. Each method returns the object itself (self), allowing multiple calls to be linked one after another.\n",
        "\n",
        "This approach makes the code more compact, readable, and efficient by reducing the need for temporary variables.\n",
        "\n",
        "Syntax:-\n",
        "\n",
        "\n",
        "\n",
        "```\n",
        "class Example:\n",
        "    def method1(self):\n",
        "        print(\"Method 1 called\")\n",
        "        return self  # Returning the object\n",
        "\n",
        "    def method2(self):\n",
        "        print(\"Method 2 called\")\n",
        "        return self  # Returning the object\n",
        "\n",
        "# Creating an object and chaining methods\n",
        "obj = Example()\n",
        "obj.method1().method2()\n",
        "\n",
        "# Output\n",
        "Method 1 called\n",
        "Method 2 called\n",
        "```\n",
        "\n"
      ],
      "metadata": {
        "id": "l2614AB6sM4g"
      }
    },
    {
      "cell_type": "markdown",
      "source": [
        "25. What is the Purpose of the __ call__ Method in Python?\n",
        " *  The __ call__ method in Python is a special dunder (double underscore) method that allows an object to be called like a function. When a class defines __ call__, its instances can be used as callable objects, meaning you can call them as if they were functions.\n",
        "\n",
        " It enables objects to behave like functions while still retaining object-oriented features.\n",
        "\n",
        " Syntax:-\n",
        "\n",
        "\n",
        "\n",
        "```\n",
        "class Example:\n",
        "    def __call__(self):\n",
        "        print(\"Object is called like a function!\")\n",
        "\n",
        "# Creating an object\n",
        "obj = Example()\n",
        "\n",
        "# Calling the object like a function\n",
        "obj()  # Output: Object is called like a function!\n",
        "```\n",
        "\n",
        "\n",
        "\n"
      ],
      "metadata": {
        "id": "m6s5aLbUso9X"
      }
    },
    {
      "cell_type": "markdown",
      "source": [
        "# Practical Questions"
      ],
      "metadata": {
        "id": "ViU_rRhXuD3d"
      }
    },
    {
      "cell_type": "code",
      "source": [
        "\"\"\"1. Create a parent class Animal with a method speak() that prints a generic message.\n",
        "Create a child class Dog that overrides the speak() method to print \"Bark!\". \"\"\"\n",
        "# Parent class\n",
        "class Animal:\n",
        "    def speak(self):\n",
        "        print(\"This animal makes a sound.\")\n",
        "\n",
        "# Child class\n",
        "class Dog(Animal):\n",
        "    def speak(self):\n",
        "        print(\"Bark!\")\n",
        "\n",
        "# Creating objects\n",
        "a = Animal()\n",
        "a.speak()\n",
        "\n",
        "d = Dog()\n",
        "d.speak()\n"
      ],
      "metadata": {
        "colab": {
          "base_uri": "https://localhost:8080/"
        },
        "id": "xKS8K5dLuH4A",
        "outputId": "cbd36fa9-267f-4027-e823-26359f058681"
      },
      "execution_count": 4,
      "outputs": [
        {
          "output_type": "stream",
          "name": "stdout",
          "text": [
            "This animal makes a sound.\n",
            "Bark!\n"
          ]
        }
      ]
    },
    {
      "cell_type": "code",
      "source": [
        "\"\"\"2. Write a program to create an abstract class Shape with a method area().\n",
        "Derive classes Circle and Rectangle from it and implement the area() method in both.\"\"\"\n",
        "from abc import ABC, abstractmethod\n",
        "\n",
        "class Shape(ABC): # abstract class\n",
        "    @abstractmethod\n",
        "    def area(self):\n",
        "        pass  # This method must be implemented in derived classes\n",
        "\n",
        "class Circle(Shape): # Derived class for Circle\n",
        "\n",
        "    def __init__(self, radius):\n",
        "        self.radius = radius\n",
        "\n",
        "    def area(self):\n",
        "        return 3.14 * self.radius * self.radius\n",
        "\n",
        "class Rectangle(Shape): # Derived class for Rectangle\n",
        "\n",
        "    def __init__(self, length, width):\n",
        "        self.length = length\n",
        "        self.width = width\n",
        "\n",
        "    def area(self):\n",
        "        return self.length * self.width\n",
        "\n",
        "# Creating objects\n",
        "c = Circle(5)\n",
        "print(\"Circle Area:\", c.area())\n",
        "\n",
        "r = Rectangle(4, 6)\n",
        "print(\"Rectangle Area:\", r.area())\n"
      ],
      "metadata": {
        "colab": {
          "base_uri": "https://localhost:8080/"
        },
        "id": "YE8De8dSvG2F",
        "outputId": "59e75db6-b803-4d09-c668-5387e167d5ec"
      },
      "execution_count": 3,
      "outputs": [
        {
          "output_type": "stream",
          "name": "stdout",
          "text": [
            "Circle Area: 78.5\n",
            "Rectangle Area: 24\n"
          ]
        }
      ]
    },
    {
      "cell_type": "code",
      "source": [
        "\"\"\" 3. Implement a multi-level inheritance scenario where a class Vehicle has an attribute type.\n",
        "Derive a class Car and further derive a class ElectricCar that adds a battery attribute.\"\"\"\n",
        "\n",
        "class Vehicle: # class\n",
        "\n",
        "    def __init__(self, type):\n",
        "        self.type = type\n",
        "\n",
        "class Car(Vehicle): # Derived class\n",
        "\n",
        "    def __init__(self, type, brand):\n",
        "        super().__init__(type)\n",
        "        self.brand = brand\n",
        "\n",
        "class ElectricCar(Car): # Further derived class\n",
        "\n",
        "    def __init__(self, type, brand, battery):\n",
        "        super().__init__(type, brand)\n",
        "        self.battery = battery\n",
        "\n",
        "e_car = ElectricCar(\"Four-wheeler\", \"Tesla\", \"100 kWh\")\n",
        "\n",
        "# attributes\n",
        "print(\"Vehicle Type:\", e_car.type)\n",
        "print(\"Car Brand:\", e_car.brand)\n",
        "print(\"Battery Capacity:\", e_car.battery)\n",
        "\n",
        "\n"
      ],
      "metadata": {
        "colab": {
          "base_uri": "https://localhost:8080/"
        },
        "id": "rlVS7leOv4wt",
        "outputId": "93bb1879-a8c5-4227-d696-65265dbbbd8a"
      },
      "execution_count": 5,
      "outputs": [
        {
          "output_type": "stream",
          "name": "stdout",
          "text": [
            "Vehicle Type: Four-wheeler\n",
            "Car Brand: Tesla\n",
            "Battery Capacity: 100 kWh\n"
          ]
        }
      ]
    },
    {
      "cell_type": "code",
      "source": [
        "\"\"\"4. Demonstrate polymorphism by creating a base class Bird with a method fly().\n",
        "Create two derived classes Sparrow and Penguin that override the fly() method.\"\"\"\n",
        "class Bird: #class\n",
        "\n",
        "    def fly(self):\n",
        "        print(\"Some birds can fly.\")\n",
        "\n",
        "class Sparrow(Bird): # Derived class Sparrow\n",
        "\n",
        "    def fly(self):\n",
        "        print(\"Sparrow flies high in the sky.\")\n",
        "\n",
        "class Penguin(Bird): # Derived class Penguin\n",
        "\n",
        "    def fly(self):\n",
        "        print(\"Penguins cannot fly, they swim.\")\n",
        "\n",
        "# Creating objects\n",
        "b1 = Sparrow()\n",
        "b2 = Penguin()\n",
        "\n",
        "b1.fly()\n",
        "b2.fly()\n"
      ],
      "metadata": {
        "colab": {
          "base_uri": "https://localhost:8080/"
        },
        "id": "TuOBH-_rxGb3",
        "outputId": "beaf8ebb-2bb8-414c-ee78-c04aaeb109f1"
      },
      "execution_count": 7,
      "outputs": [
        {
          "output_type": "stream",
          "name": "stdout",
          "text": [
            "Sparrow flies high in the sky.\n",
            "Penguins cannot fly, they swim.\n"
          ]
        }
      ]
    },
    {
      "cell_type": "code",
      "source": [
        "\"\"\"5.  Write a program to demonstrate encapsulation by creating a class BankAccount\n",
        "with private attributes balance and methods to deposit, withdraw, and check balance.\"\"\"\n",
        "\n",
        "class BankAccount: # Class with encapsulation\n",
        "\n",
        "    def __init__(self, initial_balance):\n",
        "        self.__balance = initial_balance  # Private attribute\n",
        "\n",
        "    def deposit(self, amount):\n",
        "        if amount > 0:\n",
        "            self.__balance += amount #adding in initial amount\n",
        "            print(f\"Deposited: {amount}\")\n",
        "        else:\n",
        "            print(\"Deposit amount must be positive.\")\n",
        "\n",
        "    def withdraw(self, amount):\n",
        "        if 0 < amount <= self.__balance:\n",
        "            self.__balance -= amount #subtracting from initial amount\n",
        "            print(f\"Withdrawn: {amount}\")\n",
        "        else:\n",
        "            print(\"Insufficient balance or invalid amount.\")\n",
        "\n",
        "    def check_balance(self):\n",
        "        print(f\"Current Balance: {self.__balance}\")\n",
        "\n",
        "# Creating an account\n",
        "account = BankAccount(1000)\n",
        "\n",
        "# Performing transactions\n",
        "account.deposit(500)\n",
        "account.withdraw(300)\n",
        "account.check_balance()\n",
        "\n",
        "# Trying to access private attribute directly (will cause an error)\n",
        "# print(account.__balance)  # AttributeError\n"
      ],
      "metadata": {
        "colab": {
          "base_uri": "https://localhost:8080/"
        },
        "id": "75fdQ06MyziR",
        "outputId": "4ac241a0-0728-4a2a-c4f5-7a00bf39e6b2"
      },
      "execution_count": 8,
      "outputs": [
        {
          "output_type": "stream",
          "name": "stdout",
          "text": [
            "Deposited: 500\n",
            "Withdrawn: 300\n",
            "Current Balance: 1200\n"
          ]
        }
      ]
    },
    {
      "cell_type": "code",
      "source": [
        "\"\"\"6. Demonstrate runtime polymorphism using a method play() in a base class Instrument.\n",
        " Derive classes Guitar and Piano that implement their own version of play().\"\"\"\n",
        "class Instrument:  # class\n",
        "\n",
        "    def play(self):\n",
        "        print(\"This instrument makes a sound.\")\n",
        "\n",
        "class Guitar(Instrument): # Derived class Guitar\n",
        "\n",
        "    def play(self):\n",
        "        print(\"Playing the guitar: stunngggg, stunggg!\")\n",
        "\n",
        "class Piano(Instrument): # Derived class Piano\n",
        "\n",
        "    def play(self):\n",
        "        print(\"Playing the piano: Melody plays!\")\n",
        "\n",
        "# Function polymorphism\n",
        "def play_instrument(instrument):\n",
        "    instrument.play()\n",
        "\n",
        "g = Guitar()\n",
        "p = Piano()\n",
        "\n",
        "# Calling play() using runtime polymorphism\n",
        "play_instrument(g)\n",
        "play_instrument(p)\n"
      ],
      "metadata": {
        "colab": {
          "base_uri": "https://localhost:8080/"
        },
        "id": "awBy6_rI0koB",
        "outputId": "33e1708e-62e9-4d1a-d485-23a91bff7979"
      },
      "execution_count": 10,
      "outputs": [
        {
          "output_type": "stream",
          "name": "stdout",
          "text": [
            "Playing the guitar: stunngggg, stunggg!\n",
            "Playing the piano: Melody plays!\n"
          ]
        }
      ]
    },
    {
      "cell_type": "code",
      "source": [
        "\"\"\"7. Create a class MathOperations with a class method add_numbers() to add two numbers\n",
        "and a static method subtract_numbers() to subtract two numbers.\"\"\"\n",
        "\n",
        "# Class with class method and static method\n",
        "class MathOperations:\n",
        "    @classmethod\n",
        "    def add_numbers(cls, a, b):\n",
        "        return a + b\n",
        "\n",
        "    @staticmethod\n",
        "    def subtract_numbers(a, b):\n",
        "        return a - b\n",
        "\n",
        "# Taking user input\n",
        "num1 = float(input(\"Enter first number: \"))\n",
        "num2 = float(input(\"Enter second number: \"))\n",
        "\n",
        "# Using class method\n",
        "print(\"Sum:\", MathOperations.add_numbers(num1, num2))\n",
        "\n",
        "# Using static method\n",
        "print(\"Difference:\", MathOperations.subtract_numbers(num1, num2))\n"
      ],
      "metadata": {
        "colab": {
          "base_uri": "https://localhost:8080/"
        },
        "id": "M6Bj3pc41db5",
        "outputId": "9f41fba4-8de7-4d0a-fb39-6f243f547c1b"
      },
      "execution_count": 11,
      "outputs": [
        {
          "output_type": "stream",
          "name": "stdout",
          "text": [
            "Enter first number: 28\n",
            "Enter second number: 77\n",
            "Sum: 105.0\n",
            "Difference: -49.0\n"
          ]
        }
      ]
    },
    {
      "cell_type": "code",
      "source": [
        "\"\"\" 8. Implement a class Person with a class method to count the total number of persons created.\"\"\"\n",
        "# Class to count the number of Person objects created\n",
        "class Person:\n",
        "    count = 0\n",
        "\n",
        "    def __init__(self, name):\n",
        "        self.name = name\n",
        "        Person.count += 1\n",
        "\n",
        "    @classmethod\n",
        "    def total_persons(cls):\n",
        "        return cls.count  # Returns the total count of objecs\n",
        "\n",
        "\n",
        "p1 = Person(\"Ritik\")\n",
        "p2 = Person(\"Mayank\")\n",
        "p3 = Person(\"Idhika\")\n",
        "p4 = Person(\"Manvi\")\n",
        "p5 = Person(\"Krishna\")\n",
        "p6 = Person(\"Dhruv\")\n",
        "\n",
        "print(\"Total Persons Created:\", Person.total_persons())\n"
      ],
      "metadata": {
        "colab": {
          "base_uri": "https://localhost:8080/"
        },
        "id": "eGFZt8IM2B4f",
        "outputId": "04ca5c92-b33a-4534-a3a5-7d920549abb9"
      },
      "execution_count": 12,
      "outputs": [
        {
          "output_type": "stream",
          "name": "stdout",
          "text": [
            "Total Persons Created: 6\n"
          ]
        }
      ]
    },
    {
      "cell_type": "code",
      "source": [
        "\"\"\"9. Write a class Fraction with attributes numerator and denominator.\n",
        " Override the __str__ method to display the fraction as \"numerator/denominator\"\"\"\n",
        " # Class to represent a fraction\n",
        "class Fraction:\n",
        "    def __init__(self, numerator, denominator):\n",
        "        self.numerator = numerator\n",
        "        self.denominator = denominator\n",
        "\n",
        "    def __str__(self):\n",
        "        return f\"{self.numerator}/{self.denominator}\"\n",
        "\n",
        "# Taking user input\n",
        "num = int(input(\"Enter numerator: \"))\n",
        "den = int(input(\"Enter denominator: \"))\n",
        "\n",
        "frac = Fraction(num, den)\n",
        "\n",
        "print(\"Fraction:\", frac)\n"
      ],
      "metadata": {
        "colab": {
          "base_uri": "https://localhost:8080/"
        },
        "id": "HouE89tJ24Qh",
        "outputId": "0f9de334-156a-4452-9255-2a9e8a54051d"
      },
      "execution_count": 15,
      "outputs": [
        {
          "output_type": "stream",
          "name": "stdout",
          "text": [
            "Enter numerator: 28\n",
            "Enter denominator: 7\n",
            "Fraction: 28/7\n"
          ]
        }
      ]
    },
    {
      "cell_type": "code",
      "source": [
        "\"\"\" 10.  Demonstrate operator overloading by creating a class Vector and overriding the add method to add two\n",
        "vectors.\"\"\"\n",
        "# Class to represent a vector\n",
        "class Vector:\n",
        "    def __init__(self, x, y):\n",
        "        self.x = x\n",
        "        self.y = y\n",
        "\n",
        "    def __add__(self, other):\n",
        "        return Vector(self.x + other.x, self.y + other.y)  # Adding corresponding components\n",
        "\n",
        "    def __str__(self):\n",
        "        return f\"({self.x}, {self.y})\"\n",
        "\n",
        "# Creating Vector objects\n",
        "v1 = Vector(2, 3)\n",
        "v2 = Vector(4, 5)\n",
        "\n",
        "result = v1 + v2\n",
        "\n",
        "print(\"Sum of vectors:\", result)\n"
      ],
      "metadata": {
        "colab": {
          "base_uri": "https://localhost:8080/"
        },
        "id": "0gKGbNUU3q8k",
        "outputId": "9c913880-f099-407f-95fe-a7e9b583c90f"
      },
      "execution_count": 16,
      "outputs": [
        {
          "output_type": "stream",
          "name": "stdout",
          "text": [
            "Sum of vectors: (6, 8)\n"
          ]
        }
      ]
    },
    {
      "cell_type": "code",
      "source": [
        "\"\"\"11. Create a class Person with attributes name and age. Add a method greet()\n",
        " that prints \"Hello, my name is {name} and I am {age} years old.\" \"\"\"\n",
        " # Class to represent a person\n",
        "class Person:\n",
        "    def __init__(self, name, age):\n",
        "        self.name = name\n",
        "        self.age = age\n",
        "\n",
        "    def greet(self):\n",
        "        print(f\"Hello, my name is {self.name} and I am {self.age} years old.\")\n",
        "\n",
        "# Creating a Person object\n",
        "p1 = Person(\"Dhruv\", 17)\n",
        "\n",
        "p1.greet()\n"
      ],
      "metadata": {
        "colab": {
          "base_uri": "https://localhost:8080/"
        },
        "id": "kSZa9-rp4VwG",
        "outputId": "6ea54250-476a-45aa-c53b-9f46d80bc3fc"
      },
      "execution_count": 17,
      "outputs": [
        {
          "output_type": "stream",
          "name": "stdout",
          "text": [
            "Hello, my name is Dhruv and I am 17 years old.\n"
          ]
        }
      ]
    },
    {
      "cell_type": "code",
      "source": [
        "\"\"\" 12. Implement a class Student with attributes name and grades.\n",
        "Create a method average_grade() to compute the average of the grades.\"\"\"\n",
        "# Class to represent a student\n",
        "class Student:\n",
        "    def __init__(self, name, grades):\n",
        "        self.name = name\n",
        "        self.grades = grades\n",
        "\n",
        "    def average_grade(self):\n",
        "        return sum(self.grades) / len(self.grades)  # Calculate average\n",
        "\n",
        "# Creating a Student object\n",
        "s1 = Student(\"Dhruv\", [85, 90, 78, 92])\n",
        "\n",
        "print(\"Average Grade:\", s1.average_grade())\n"
      ],
      "metadata": {
        "colab": {
          "base_uri": "https://localhost:8080/"
        },
        "id": "xWLibAXV411y",
        "outputId": "6f742b24-d1b5-47a6-9c02-712cb4f1dc09"
      },
      "execution_count": 18,
      "outputs": [
        {
          "output_type": "stream",
          "name": "stdout",
          "text": [
            "Average Grade: 86.25\n"
          ]
        }
      ]
    },
    {
      "cell_type": "code",
      "source": [
        "\"\"\" 13. Create a class Rectangle with methods set_dimensions() to set the dimensions and area() to calculate the area.\"\"\"\n",
        "# Class to represent a rectangle\n",
        "class Rectangle:\n",
        "    def __init__(self):\n",
        "        self.length = 0\n",
        "        self.width = 0\n",
        "\n",
        "    def set_dimensions(self):\n",
        "        self.length = float(input(\"Enter length: \"))\n",
        "        self.width = float(input(\"Enter width: \"))\n",
        "\n",
        "    def area(self):\n",
        "        return self.length * self.width\n",
        "\n",
        "# Creating a Rectangle object\n",
        "rect = Rectangle()\n",
        "\n",
        "# Setting dimensions using user input\n",
        "rect.set_dimensions()\n",
        "\n",
        "print(\"Area of rectangle:\", rect.area())\n"
      ],
      "metadata": {
        "colab": {
          "base_uri": "https://localhost:8080/"
        },
        "id": "xKwTAfrX5dya",
        "outputId": "13103a0d-833b-4dac-8919-cf80f71ec5fa"
      },
      "execution_count": 19,
      "outputs": [
        {
          "output_type": "stream",
          "name": "stdout",
          "text": [
            "Enter length: 15\n",
            "Enter width: 10\n",
            "Area of rectangle: 150.0\n"
          ]
        }
      ]
    },
    {
      "cell_type": "code",
      "source": [
        "\"\"\" 14.  Create a class Employee with a method calculate_salary() that\n",
        "computes the salary based on hours worked and hourly rate.\n",
        "Create a derived class Manager that adds a bonus to the salary.\"\"\"\n",
        "\n",
        "# class\n",
        "class Employee:\n",
        "    def __init__(self, name, hours_worked, hourly_rate):\n",
        "        self.name = name\n",
        "        self.hours_worked = hours_worked\n",
        "        self.hourly_rate = hourly_rate\n",
        "\n",
        "    def calculate_salary(self):\n",
        "        return self.hours_worked * self.hourly_rate  # Basic salary calculation\n",
        "\n",
        "# Derived class\n",
        "class Manager(Employee):\n",
        "    def __init__(self, name, hours_worked, hourly_rate, bonus):\n",
        "        super().__init__(name, hours_worked, hourly_rate)\n",
        "        self.bonus = bonus\n",
        "\n",
        "    def calculate_salary(self):\n",
        "        return super().calculate_salary() + self.bonus  # Salary with bonus\n",
        "\n",
        "# Taking user input\n",
        "name = input(\"Enter employee name: \")\n",
        "hours = float(input(\"Enter hours worked: \"))\n",
        "rate = float(input(\"Enter hourly rate: \"))\n",
        "bonus = float(input(\"Enter bonus (for manager only, else enter 0): \"))\n",
        "\n",
        "# Creating Employee or Manager object based on bonus input\n",
        "if bonus > 0:\n",
        "    emp = Manager(name, hours, rate, bonus)\n",
        "else:\n",
        "    emp = Employee(name, hours, rate)\n",
        "\n",
        "# Printing the salary\n",
        "print(f\"Total salary of {emp.name}: {emp.calculate_salary()}\")\n"
      ],
      "metadata": {
        "colab": {
          "base_uri": "https://localhost:8080/"
        },
        "id": "E6gqqW-v6GOx",
        "outputId": "71512321-b5d7-4232-c1ba-455cd771a46b"
      },
      "execution_count": 27,
      "outputs": [
        {
          "output_type": "stream",
          "name": "stdout",
          "text": [
            "Enter employee name: Dhruv\n",
            "Enter hours worked: 10\n",
            "Enter hourly rate: 100\n",
            "Enter bonus (for manager only, else enter 0): 200\n",
            "Total salary of Dhruv: 1200.0\n"
          ]
        }
      ]
    },
    {
      "cell_type": "code",
      "source": [
        "\"\"\" 15. Create a class Product with attributes name, price, and quantity.\n",
        "Implement a method total_price() that calculates the total price of the product.\"\"\"\n",
        "# Class to represent a product\n",
        "class Product:\n",
        "    def __init__(self, name, price, quantity):\n",
        "        self.name = name\n",
        "        self.price = price\n",
        "        self.quantity = quantity\n",
        "\n",
        "    def total_price(self):\n",
        "        return self.price * self.quantity  # Calculate total cost\n",
        "\n",
        "# Taking user input\n",
        "name = input(\"Enter product name: \")\n",
        "price = float(input(\"Enter price per unit: \"))\n",
        "quantity = int(input(\"Enter quantity: \"))\n",
        "\n",
        "product = Product(name, price, quantity)\n",
        "\n",
        "print(f\"Total price of {product.name}: {product.total_price()}\") #total price\n"
      ],
      "metadata": {
        "colab": {
          "base_uri": "https://localhost:8080/"
        },
        "id": "IDLSkseH7kNT",
        "outputId": "af9205e9-e90c-48b3-fe53-b9b8aaa4f0b9"
      },
      "execution_count": 21,
      "outputs": [
        {
          "output_type": "stream",
          "name": "stdout",
          "text": [
            "Enter product name: Playstation 5\n",
            "Enter price per unit: 55000\n",
            "Enter quantity: 4\n",
            "Total price of Playstation 5: 220000.0\n"
          ]
        }
      ]
    },
    {
      "cell_type": "code",
      "source": [
        "\"\"\" 16. Create a class Animal with an abstract method sound().\n",
        " Create two derived classes Cow and Sheep that implement the sound() method.\"\"\"\n",
        "\n",
        "from abc import ABC, abstractmethod\n",
        "\n",
        "# Abstract base class\n",
        "class Animal(ABC):\n",
        "    @abstractmethod\n",
        "    def sound(self):\n",
        "        pass  # Abstract method must be implemented in derived classes\n",
        "\n",
        "# Derived class Cow\n",
        "class Cow(Animal):\n",
        "    def sound(self):\n",
        "        print(\"Cow says: Moo!\")\n",
        "\n",
        "# Derived class Sheep\n",
        "class Sheep(Animal):\n",
        "    def sound(self):\n",
        "        print(\"Sheep says: Baa!\")\n",
        "\n",
        "# Creating objects\n",
        "cow = Cow()\n",
        "sheep = Sheep()\n",
        "\n",
        "cow.sound()\n",
        "sheep.sound()\n"
      ],
      "metadata": {
        "colab": {
          "base_uri": "https://localhost:8080/"
        },
        "id": "HitDnQz28MO4",
        "outputId": "a646d732-b7c7-4eb5-8d82-e4dddc1cf8ad"
      },
      "execution_count": 24,
      "outputs": [
        {
          "output_type": "stream",
          "name": "stdout",
          "text": [
            "Cow says: Moo!\n",
            "Sheep says: Baa!\n"
          ]
        }
      ]
    },
    {
      "cell_type": "code",
      "source": [
        "\"\"\" 17. Create a class Book with attributes title, author, and year_published.\n",
        "Add a method get_book_info() that returns a formatted string with the book's details.\"\"\"\n",
        "# Class to represent a book\n",
        "class Book:\n",
        "    def __init__(self, title, author, year_published):\n",
        "        self.title = title\n",
        "        self.author = author\n",
        "        self.year_published = year_published\n",
        "\n",
        "    def get_book_info(self):\n",
        "        return f\"'{self.title}' by {self.author}, published in {self.year_published}.\"\n",
        "\n",
        "# Creating a Book object\n",
        "book = Book(\"Concepts of Physics\", \"H.C. Verma\", 1992)\n",
        "\n",
        "print(book.get_book_info())\n"
      ],
      "metadata": {
        "colab": {
          "base_uri": "https://localhost:8080/"
        },
        "id": "aAGDwCKg9GCy",
        "outputId": "2e40feea-46dd-4ffb-c63b-d8d6eeed3f8f"
      },
      "execution_count": 25,
      "outputs": [
        {
          "output_type": "stream",
          "name": "stdout",
          "text": [
            "'Concepts of Physics' by H.C. Verma, published in 1992.\n"
          ]
        }
      ]
    },
    {
      "cell_type": "code",
      "source": [
        "\"\"\" 18.  Create a class House with attributes address and price.\n",
        "Create a derived class Mansion that adds an attribute number_of_rooms.\"\"\"\n",
        "\n",
        "class House:  # class\n",
        "\n",
        "    def __init__(self, address, price):\n",
        "        self.address = address\n",
        "        self.price = price\n",
        "\n",
        "    def get_info(self):\n",
        "        return f\"House located at {self.address}, priced at ₹{self.price}.\"\n",
        "\n",
        "# Derived class\n",
        "class Mansion(House):\n",
        "    def __init__(self, address, price, number_of_rooms):\n",
        "        super().__init__(address, price)\n",
        "        self.number_of_rooms = number_of_rooms\n",
        "\n",
        "    def get_info(self):\n",
        "        return f\"Mansion located at {self.address}, priced at ₹{self.price}, with {self.number_of_rooms} rooms.\"\n",
        "\n",
        "# Creating objects\n",
        "house = House(\"Chanakyapuri, New Delhi\", 100000000)  # ₹10 crore house\n",
        "mansion = Mansion(\"Lutyens' Delhi, New Delhi\", 500000000, 15)  # ₹50 crore mansion\n",
        "\n",
        "# Printing information\n",
        "print(house.get_info())\n",
        "\n",
        "\n",
        "print(mansion.get_info())\n",
        "\n"
      ],
      "metadata": {
        "colab": {
          "base_uri": "https://localhost:8080/"
        },
        "id": "qjRWTwgo97wZ",
        "outputId": "c479a7a5-b78d-4014-e7ed-710f48eeb60f"
      },
      "execution_count": 26,
      "outputs": [
        {
          "output_type": "stream",
          "name": "stdout",
          "text": [
            "House located at Chanakyapuri, New Delhi, priced at ₹100000000.\n",
            "Mansion located at Lutyens' Delhi, New Delhi, priced at ₹500000000, with 15 rooms.\n"
          ]
        }
      ]
    }
  ]
}